{
 "cells": [
  {
   "cell_type": "markdown",
   "id": "0ff05cce-64ae-40f3-a199-49379e967099",
   "metadata": {},
   "source": [
    "DSC 232R - Franky Liu\n",
    "# Recommendation Model based on Steam Reviews "
   ]
  },
  {
   "cell_type": "markdown",
   "id": "74b6d2b6-90b2-4587-bf22-944e442737b3",
   "metadata": {},
   "source": [
    "The project will explore the Kaggle dataset 100 Million+ Steam Reviews, which contains data such as steamid, language, review sentiment, helpfulness score, review body, among many others. \n",
    "The goal of this project is to combine two different machine learning models into an intelligence pipeline to create a recommendation system based on review sentiment and predicted playtime, \n",
    "which will all be implemented in Apache Spark. First, we will first apply NLP techniques such as tokenization, stopword removal, and IDF feature processing to clean and prepare our data. Using\n",
    "these processed features, we will build a logistic regression model that classifies user sentiment (positive or negative) and if they would recommend the game (0 or 1). Following that,\n",
    "we will build a linear regression model that predicts playtime based on inputs such as the full review text, past playtime, as well as the predicted sentiment from the logistic regression model. \n",
    "Lastly, we will integrate the outputs from the previous two models into a single intelligence pipeline to create a recommendation system. This system recommends games by predicting how much time\n",
    "a user might spend on different titles and selecting the title with the highest projected playtime. This recommendation system aims to simulate a real-world machine learning pipeline that could\n",
    "be the framework of much more powerful recommendation systems that platforms like Steam might use. "
   ]
  },
  {
   "cell_type": "markdown",
   "id": "2aedafb9-5b8a-4a6e-bcc6-4559c384f7ec",
   "metadata": {},
   "source": [
    "## Part 1 - Installing dependencies and downloading the dataset"
   ]
  },
  {
   "cell_type": "code",
   "execution_count": 1,
   "id": "77df88a1-ea9d-4473-a3d2-3b41d860677e",
   "metadata": {},
   "outputs": [
    {
     "name": "stdout",
     "output_type": "stream",
     "text": [
      "Note: you may need to restart the kernel to use updated packages.\n"
     ]
    }
   ],
   "source": [
    "pip install -qq kagglehub"
   ]
  },
  {
   "cell_type": "code",
   "execution_count": 2,
   "id": "b9f629e8-cf02-475b-8b36-3b6e89e3fa91",
   "metadata": {},
   "outputs": [
    {
     "name": "stdout",
     "output_type": "stream",
     "text": [
      "Note: you may need to restart the kernel to use updated packages.\n"
     ]
    }
   ],
   "source": [
    "pip install -qq nltk"
   ]
  },
  {
   "cell_type": "markdown",
   "id": "1033a030-0baa-4ff0-9b19-f9cbf13d3167",
   "metadata": {},
   "source": [
    "The following cell downloads our dataset and stores its location in the path variable, which we will use to import it into this notebook. \n",
    "If it somehow not works, the dataset can also be downloaded at https://www.kaggle.com/datasets/kieranpoc/steam-reviews."
   ]
  },
  {
   "cell_type": "code",
   "execution_count": 3,
   "id": "40c6a31e-598a-4a25-a897-ff1e71d5706c",
   "metadata": {},
   "outputs": [],
   "source": [
    "import kagglehub\n",
    "path = kagglehub.dataset_download('kieranpoc/steam-reviews')"
   ]
  },
  {
   "cell_type": "markdown",
   "id": "7996a4ec-1b4e-4cef-9c9f-d27bc67dcb13",
   "metadata": {},
   "source": [
    "# Part 2 - Data Exploration"
   ]
  },
  {
   "cell_type": "markdown",
   "id": "e38020cc-563d-456e-afc5-1d974e0e64ec",
   "metadata": {},
   "source": [
    "The following sections will explore the 'Steam Reviews' dataset with techniques such as cleaning, filtering, preliminary aggregating,\n",
    "graphing data of interest, as well as preprocessing our text columns for machine learning models in the later parts of the project. "
   ]
  },
  {
   "cell_type": "markdown",
   "id": "54b27dda-2194-47ef-843f-6ab1a550f0e2",
   "metadata": {},
   "source": [
    "### Data Cleaning"
   ]
  },
  {
   "cell_type": "code",
   "execution_count": 4,
   "id": "911b30e0-e373-4127-bc1c-5449715192b1",
   "metadata": {},
   "outputs": [],
   "source": [
    "#spark.stop()"
   ]
  },
  {
   "cell_type": "code",
   "execution_count": 5,
   "id": "1682f95e-a2c5-456e-b569-fba66d7c529f",
   "metadata": {},
   "outputs": [],
   "source": [
    "# Starting the Spark session, adjust accordingly\n",
    "\n",
    "from pyspark.sql import SparkSession\n",
    "spark = SparkSession.builder \\\n",
    "    .config('spark.driver.memory', '19g') \\\n",
    "    .config('spark.executor.memory', '17g') \\\n",
    "    .config('spark.executor.instances', 13) \\\n",
    "    .getOrCreate()\n",
    "\n",
    "spark.sparkContext.setLogLevel('INFO')"
   ]
  },
  {
   "cell_type": "code",
   "execution_count": 6,
   "id": "be7bf382-ff50-476d-8d85-2e6cac43c4ce",
   "metadata": {},
   "outputs": [
    {
     "name": "stdout",
     "output_type": "stream",
     "text": [
      "Spark is running on 14 cores\n"
     ]
    }
   ],
   "source": [
    "# Identify how many cores Spark is currently running on\n",
    "\n",
    "print(f'Spark is running on {spark.sparkContext.defaultParallelism} cores')"
   ]
  },
  {
   "cell_type": "code",
   "execution_count": 7,
   "id": "957e8d50-3a6c-47b0-b75c-0ef99bd72295",
   "metadata": {},
   "outputs": [
    {
     "data": {
      "text/html": [
       "<div>\n",
       "<style scoped>\n",
       "    .dataframe tbody tr th:only-of-type {\n",
       "        vertical-align: middle;\n",
       "    }\n",
       "\n",
       "    .dataframe tbody tr th {\n",
       "        vertical-align: top;\n",
       "    }\n",
       "\n",
       "    .dataframe thead th {\n",
       "        text-align: right;\n",
       "    }\n",
       "</style>\n",
       "<table border=\"1\" class=\"dataframe\">\n",
       "  <thead>\n",
       "    <tr style=\"text-align: right;\">\n",
       "      <th></th>\n",
       "      <th>recommendationid</th>\n",
       "      <th>appid</th>\n",
       "      <th>game</th>\n",
       "      <th>author_steamid</th>\n",
       "      <th>author_num_games_owned</th>\n",
       "      <th>author_num_reviews</th>\n",
       "      <th>author_playtime_forever</th>\n",
       "      <th>author_playtime_last_two_weeks</th>\n",
       "      <th>author_playtime_at_review</th>\n",
       "      <th>author_last_played</th>\n",
       "      <th>...</th>\n",
       "      <th>voted_up</th>\n",
       "      <th>votes_up</th>\n",
       "      <th>votes_funny</th>\n",
       "      <th>weighted_vote_score</th>\n",
       "      <th>comment_count</th>\n",
       "      <th>steam_purchase</th>\n",
       "      <th>received_for_free</th>\n",
       "      <th>written_during_early_access</th>\n",
       "      <th>hidden_in_steam_china</th>\n",
       "      <th>steam_china_location</th>\n",
       "    </tr>\n",
       "  </thead>\n",
       "  <tbody>\n",
       "    <tr>\n",
       "      <th>0</th>\n",
       "      <td>148919893</td>\n",
       "      <td>10</td>\n",
       "      <td>Counter-Strike</td>\n",
       "      <td>76561199036724879</td>\n",
       "      <td>0</td>\n",
       "      <td>3</td>\n",
       "      <td>197</td>\n",
       "      <td>197</td>\n",
       "      <td>197</td>\n",
       "      <td>1698336369</td>\n",
       "      <td>...</td>\n",
       "      <td>1</td>\n",
       "      <td>0</td>\n",
       "      <td>0</td>\n",
       "      <td>0.0</td>\n",
       "      <td>0</td>\n",
       "      <td>1</td>\n",
       "      <td>0</td>\n",
       "      <td>0</td>\n",
       "      <td>1</td>\n",
       "      <td>None</td>\n",
       "    </tr>\n",
       "    <tr>\n",
       "      <th>1</th>\n",
       "      <td>148919350</td>\n",
       "      <td>10</td>\n",
       "      <td>Counter-Strike</td>\n",
       "      <td>76561198826729322</td>\n",
       "      <td>0</td>\n",
       "      <td>21</td>\n",
       "      <td>441</td>\n",
       "      <td>37</td>\n",
       "      <td>441</td>\n",
       "      <td>1698335809</td>\n",
       "      <td>...</td>\n",
       "      <td>1</td>\n",
       "      <td>0</td>\n",
       "      <td>0</td>\n",
       "      <td>0.0</td>\n",
       "      <td>0</td>\n",
       "      <td>1</td>\n",
       "      <td>0</td>\n",
       "      <td>0</td>\n",
       "      <td>1</td>\n",
       "      <td>None</td>\n",
       "    </tr>\n",
       "    <tr>\n",
       "      <th>2</th>\n",
       "      <td>148913051</td>\n",
       "      <td>10</td>\n",
       "      <td>Counter-Strike</td>\n",
       "      <td>76561199101237625</td>\n",
       "      <td>7</td>\n",
       "      <td>1</td>\n",
       "      <td>1440</td>\n",
       "      <td>1440</td>\n",
       "      <td>1313</td>\n",
       "      <td>1698338635</td>\n",
       "      <td>...</td>\n",
       "      <td>1</td>\n",
       "      <td>0</td>\n",
       "      <td>0</td>\n",
       "      <td>0.0</td>\n",
       "      <td>0</td>\n",
       "      <td>1</td>\n",
       "      <td>0</td>\n",
       "      <td>0</td>\n",
       "      <td>1</td>\n",
       "      <td>None</td>\n",
       "    </tr>\n",
       "    <tr>\n",
       "      <th>3</th>\n",
       "      <td>148912714</td>\n",
       "      <td>10</td>\n",
       "      <td>Counter-Strike</td>\n",
       "      <td>76561198347582422</td>\n",
       "      <td>11</td>\n",
       "      <td>4</td>\n",
       "      <td>1636</td>\n",
       "      <td>83</td>\n",
       "      <td>1612</td>\n",
       "      <td>1698341834</td>\n",
       "      <td>...</td>\n",
       "      <td>1</td>\n",
       "      <td>0</td>\n",
       "      <td>0</td>\n",
       "      <td>0.0</td>\n",
       "      <td>0</td>\n",
       "      <td>1</td>\n",
       "      <td>0</td>\n",
       "      <td>0</td>\n",
       "      <td>1</td>\n",
       "      <td>None</td>\n",
       "    </tr>\n",
       "    <tr>\n",
       "      <th>4</th>\n",
       "      <td>148912575</td>\n",
       "      <td>10</td>\n",
       "      <td>Counter-Strike</td>\n",
       "      <td>76561198363716821</td>\n",
       "      <td>0</td>\n",
       "      <td>2</td>\n",
       "      <td>197</td>\n",
       "      <td>41</td>\n",
       "      <td>197</td>\n",
       "      <td>1698329401</td>\n",
       "      <td>...</td>\n",
       "      <td>1</td>\n",
       "      <td>0</td>\n",
       "      <td>0</td>\n",
       "      <td>0.0</td>\n",
       "      <td>0</td>\n",
       "      <td>1</td>\n",
       "      <td>0</td>\n",
       "      <td>0</td>\n",
       "      <td>1</td>\n",
       "      <td>None</td>\n",
       "    </tr>\n",
       "    <tr>\n",
       "      <th>5</th>\n",
       "      <td>148906148</td>\n",
       "      <td>10</td>\n",
       "      <td>Counter-Strike</td>\n",
       "      <td>76561198198293481</td>\n",
       "      <td>22</td>\n",
       "      <td>2</td>\n",
       "      <td>1685</td>\n",
       "      <td>70</td>\n",
       "      <td>1649</td>\n",
       "      <td>1698323046</td>\n",
       "      <td>...</td>\n",
       "      <td>1</td>\n",
       "      <td>0</td>\n",
       "      <td>0</td>\n",
       "      <td>0.0</td>\n",
       "      <td>0</td>\n",
       "      <td>1</td>\n",
       "      <td>0</td>\n",
       "      <td>0</td>\n",
       "      <td>1</td>\n",
       "      <td>None</td>\n",
       "    </tr>\n",
       "    <tr>\n",
       "      <th>6</th>\n",
       "      <td>148905699</td>\n",
       "      <td>10</td>\n",
       "      <td>Counter-Strike</td>\n",
       "      <td>76561198820122182</td>\n",
       "      <td>88</td>\n",
       "      <td>39</td>\n",
       "      <td>11</td>\n",
       "      <td>0</td>\n",
       "      <td>11</td>\n",
       "      <td>1695752100</td>\n",
       "      <td>...</td>\n",
       "      <td>1</td>\n",
       "      <td>0</td>\n",
       "      <td>0</td>\n",
       "      <td>0.0</td>\n",
       "      <td>0</td>\n",
       "      <td>0</td>\n",
       "      <td>0</td>\n",
       "      <td>0</td>\n",
       "      <td>1</td>\n",
       "      <td>None</td>\n",
       "    </tr>\n",
       "    <tr>\n",
       "      <th>7</th>\n",
       "      <td>148900627</td>\n",
       "      <td>10</td>\n",
       "      <td>Counter-Strike</td>\n",
       "      <td>76561198346217916</td>\n",
       "      <td>0</td>\n",
       "      <td>2</td>\n",
       "      <td>45119</td>\n",
       "      <td>503</td>\n",
       "      <td>45119</td>\n",
       "      <td>1698157431</td>\n",
       "      <td>...</td>\n",
       "      <td>1</td>\n",
       "      <td>0</td>\n",
       "      <td>0</td>\n",
       "      <td>0.0</td>\n",
       "      <td>0</td>\n",
       "      <td>1</td>\n",
       "      <td>0</td>\n",
       "      <td>0</td>\n",
       "      <td>1</td>\n",
       "      <td>None</td>\n",
       "    </tr>\n",
       "    <tr>\n",
       "      <th>8</th>\n",
       "      <td>148899121</td>\n",
       "      <td>10</td>\n",
       "      <td>Counter-Strike</td>\n",
       "      <td>76561199143791757</td>\n",
       "      <td>9</td>\n",
       "      <td>4</td>\n",
       "      <td>1271</td>\n",
       "      <td>973</td>\n",
       "      <td>1202</td>\n",
       "      <td>1698338304</td>\n",
       "      <td>...</td>\n",
       "      <td>1</td>\n",
       "      <td>0</td>\n",
       "      <td>0</td>\n",
       "      <td>0.0</td>\n",
       "      <td>0</td>\n",
       "      <td>1</td>\n",
       "      <td>0</td>\n",
       "      <td>0</td>\n",
       "      <td>1</td>\n",
       "      <td>None</td>\n",
       "    </tr>\n",
       "    <tr>\n",
       "      <th>9</th>\n",
       "      <td>148898785</td>\n",
       "      <td>10</td>\n",
       "      <td>Counter-Strike</td>\n",
       "      <td>76561198853145449</td>\n",
       "      <td>491</td>\n",
       "      <td>60</td>\n",
       "      <td>721</td>\n",
       "      <td>0</td>\n",
       "      <td>721</td>\n",
       "      <td>1660831719</td>\n",
       "      <td>...</td>\n",
       "      <td>1</td>\n",
       "      <td>0</td>\n",
       "      <td>0</td>\n",
       "      <td>0.0</td>\n",
       "      <td>0</td>\n",
       "      <td>1</td>\n",
       "      <td>0</td>\n",
       "      <td>0</td>\n",
       "      <td>1</td>\n",
       "      <td>None</td>\n",
       "    </tr>\n",
       "  </tbody>\n",
       "</table>\n",
       "<p>10 rows × 24 columns</p>\n",
       "</div>"
      ],
      "text/plain": [
       "  recommendationid appid            game     author_steamid  \\\n",
       "0        148919893    10  Counter-Strike  76561199036724879   \n",
       "1        148919350    10  Counter-Strike  76561198826729322   \n",
       "2        148913051    10  Counter-Strike  76561199101237625   \n",
       "3        148912714    10  Counter-Strike  76561198347582422   \n",
       "4        148912575    10  Counter-Strike  76561198363716821   \n",
       "5        148906148    10  Counter-Strike  76561198198293481   \n",
       "6        148905699    10  Counter-Strike  76561198820122182   \n",
       "7        148900627    10  Counter-Strike  76561198346217916   \n",
       "8        148899121    10  Counter-Strike  76561199143791757   \n",
       "9        148898785    10  Counter-Strike  76561198853145449   \n",
       "\n",
       "  author_num_games_owned author_num_reviews author_playtime_forever  \\\n",
       "0                      0                  3                     197   \n",
       "1                      0                 21                     441   \n",
       "2                      7                  1                    1440   \n",
       "3                     11                  4                    1636   \n",
       "4                      0                  2                     197   \n",
       "5                     22                  2                    1685   \n",
       "6                     88                 39                      11   \n",
       "7                      0                  2                   45119   \n",
       "8                      9                  4                    1271   \n",
       "9                    491                 60                     721   \n",
       "\n",
       "  author_playtime_last_two_weeks author_playtime_at_review author_last_played  \\\n",
       "0                            197                       197         1698336369   \n",
       "1                             37                       441         1698335809   \n",
       "2                           1440                      1313         1698338635   \n",
       "3                             83                      1612         1698341834   \n",
       "4                             41                       197         1698329401   \n",
       "5                             70                      1649         1698323046   \n",
       "6                              0                        11         1695752100   \n",
       "7                            503                     45119         1698157431   \n",
       "8                            973                      1202         1698338304   \n",
       "9                              0                       721         1660831719   \n",
       "\n",
       "   ... voted_up votes_up votes_funny weighted_vote_score comment_count  \\\n",
       "0  ...        1        0           0                 0.0             0   \n",
       "1  ...        1        0           0                 0.0             0   \n",
       "2  ...        1        0           0                 0.0             0   \n",
       "3  ...        1        0           0                 0.0             0   \n",
       "4  ...        1        0           0                 0.0             0   \n",
       "5  ...        1        0           0                 0.0             0   \n",
       "6  ...        1        0           0                 0.0             0   \n",
       "7  ...        1        0           0                 0.0             0   \n",
       "8  ...        1        0           0                 0.0             0   \n",
       "9  ...        1        0           0                 0.0             0   \n",
       "\n",
       "  steam_purchase received_for_free written_during_early_access  \\\n",
       "0              1                 0                           0   \n",
       "1              1                 0                           0   \n",
       "2              1                 0                           0   \n",
       "3              1                 0                           0   \n",
       "4              1                 0                           0   \n",
       "5              1                 0                           0   \n",
       "6              0                 0                           0   \n",
       "7              1                 0                           0   \n",
       "8              1                 0                           0   \n",
       "9              1                 0                           0   \n",
       "\n",
       "  hidden_in_steam_china steam_china_location  \n",
       "0                     1                 None  \n",
       "1                     1                 None  \n",
       "2                     1                 None  \n",
       "3                     1                 None  \n",
       "4                     1                 None  \n",
       "5                     1                 None  \n",
       "6                     1                 None  \n",
       "7                     1                 None  \n",
       "8                     1                 None  \n",
       "9                     1                 None  \n",
       "\n",
       "[10 rows x 24 columns]"
      ]
     },
     "metadata": {},
     "output_type": "display_data"
    }
   ],
   "source": [
    "# Importing data from path, taking a small sample to get a visual representation\n",
    "\n",
    "import pandas as pd\n",
    "from IPython.display import display\n",
    "\n",
    "reviews = spark.read.csv(path + '/all_reviews/all_reviews.csv', header=True)\n",
    "sample = reviews.limit(10).toPandas()\n",
    "display(sample)"
   ]
  },
  {
   "cell_type": "markdown",
   "id": "406466bb-80ec-45b2-9b15-c97100648432",
   "metadata": {},
   "source": [
    "From the above output, there are a lot of interesting columns that will be useful to us in the following sections. However, we can also readily identify some columns \n",
    "that will not be used based on the point of interest of this project. We will remove these columns in the following section to optimize our dataset. The columns that we will \n",
    "not utilize and to be removed are the last 9 columns."
   ]
  },
  {
   "cell_type": "code",
   "execution_count": 8,
   "id": "2b702d58-0f42-4566-b9c8-2b4f662af3b4",
   "metadata": {},
   "outputs": [
    {
     "name": "stdout",
     "output_type": "stream",
     "text": [
      "The dataset currently has 24 columns.\n"
     ]
    }
   ],
   "source": [
    "print(f'The dataset currently has {len(reviews.columns)} columns.')"
   ]
  },
  {
   "cell_type": "code",
   "execution_count": 9,
   "id": "0f75b96f-98d4-4ecf-993d-8202699ba7dd",
   "metadata": {},
   "outputs": [
    {
     "name": "stdout",
     "output_type": "stream",
     "text": [
      "The new dataset has 18 columns\n"
     ]
    }
   ],
   "source": [
    "# Iterates over the columns and drop it one by one\n",
    "\n",
    "reviews = reviews.drop('steam_china_location', 'hidden_in_steam_china', 'written_during_early_access', \n",
    "                       'received_for_free', 'votes_funny', 'votes_up')\n",
    "print(f'The new dataset has {len(reviews.columns)} columns')"
   ]
  },
  {
   "cell_type": "code",
   "execution_count": 10,
   "id": "444de05b-272a-4a9d-b227-87ad142f5103",
   "metadata": {},
   "outputs": [
    {
     "data": {
      "text/html": [
       "<div>\n",
       "<style scoped>\n",
       "    .dataframe tbody tr th:only-of-type {\n",
       "        vertical-align: middle;\n",
       "    }\n",
       "\n",
       "    .dataframe tbody tr th {\n",
       "        vertical-align: top;\n",
       "    }\n",
       "\n",
       "    .dataframe thead th {\n",
       "        text-align: right;\n",
       "    }\n",
       "</style>\n",
       "<table border=\"1\" class=\"dataframe\">\n",
       "  <thead>\n",
       "    <tr style=\"text-align: right;\">\n",
       "      <th></th>\n",
       "      <th>recommendationid</th>\n",
       "      <th>appid</th>\n",
       "      <th>game</th>\n",
       "      <th>author_steamid</th>\n",
       "      <th>author_num_games_owned</th>\n",
       "      <th>author_num_reviews</th>\n",
       "      <th>author_playtime_forever</th>\n",
       "      <th>author_playtime_last_two_weeks</th>\n",
       "      <th>author_playtime_at_review</th>\n",
       "      <th>author_last_played</th>\n",
       "      <th>language</th>\n",
       "      <th>review</th>\n",
       "      <th>timestamp_created</th>\n",
       "      <th>timestamp_updated</th>\n",
       "      <th>voted_up</th>\n",
       "      <th>weighted_vote_score</th>\n",
       "      <th>comment_count</th>\n",
       "      <th>steam_purchase</th>\n",
       "    </tr>\n",
       "  </thead>\n",
       "  <tbody>\n",
       "    <tr>\n",
       "      <th>0</th>\n",
       "      <td>148919893</td>\n",
       "      <td>10</td>\n",
       "      <td>Counter-Strike</td>\n",
       "      <td>76561199036724879</td>\n",
       "      <td>0</td>\n",
       "      <td>3</td>\n",
       "      <td>197</td>\n",
       "      <td>197</td>\n",
       "      <td>197</td>\n",
       "      <td>1698336369</td>\n",
       "      <td>russian</td>\n",
       "      <td>старость</td>\n",
       "      <td>1698336397</td>\n",
       "      <td>1698336397</td>\n",
       "      <td>1</td>\n",
       "      <td>0.0</td>\n",
       "      <td>0</td>\n",
       "      <td>1</td>\n",
       "    </tr>\n",
       "    <tr>\n",
       "      <th>1</th>\n",
       "      <td>148919350</td>\n",
       "      <td>10</td>\n",
       "      <td>Counter-Strike</td>\n",
       "      <td>76561198826729322</td>\n",
       "      <td>0</td>\n",
       "      <td>21</td>\n",
       "      <td>441</td>\n",
       "      <td>37</td>\n",
       "      <td>441</td>\n",
       "      <td>1698335809</td>\n",
       "      <td>russian</td>\n",
       "      <td>Лучше кс 2</td>\n",
       "      <td>1698335821</td>\n",
       "      <td>1698335821</td>\n",
       "      <td>1</td>\n",
       "      <td>0.0</td>\n",
       "      <td>0</td>\n",
       "      <td>1</td>\n",
       "    </tr>\n",
       "    <tr>\n",
       "      <th>2</th>\n",
       "      <td>148913051</td>\n",
       "      <td>10</td>\n",
       "      <td>Counter-Strike</td>\n",
       "      <td>76561199101237625</td>\n",
       "      <td>7</td>\n",
       "      <td>1</td>\n",
       "      <td>1440</td>\n",
       "      <td>1440</td>\n",
       "      <td>1313</td>\n",
       "      <td>1698338635</td>\n",
       "      <td>turkish</td>\n",
       "      <td>çoh iyi ama pahalı</td>\n",
       "      <td>1698329862</td>\n",
       "      <td>1698329862</td>\n",
       "      <td>1</td>\n",
       "      <td>0.0</td>\n",
       "      <td>0</td>\n",
       "      <td>1</td>\n",
       "    </tr>\n",
       "    <tr>\n",
       "      <th>3</th>\n",
       "      <td>148912714</td>\n",
       "      <td>10</td>\n",
       "      <td>Counter-Strike</td>\n",
       "      <td>76561198347582422</td>\n",
       "      <td>11</td>\n",
       "      <td>4</td>\n",
       "      <td>1636</td>\n",
       "      <td>83</td>\n",
       "      <td>1612</td>\n",
       "      <td>1698341834</td>\n",
       "      <td>russian</td>\n",
       "      <td>топ</td>\n",
       "      <td>1698329555</td>\n",
       "      <td>1698329555</td>\n",
       "      <td>1</td>\n",
       "      <td>0.0</td>\n",
       "      <td>0</td>\n",
       "      <td>1</td>\n",
       "    </tr>\n",
       "    <tr>\n",
       "      <th>4</th>\n",
       "      <td>148912575</td>\n",
       "      <td>10</td>\n",
       "      <td>Counter-Strike</td>\n",
       "      <td>76561198363716821</td>\n",
       "      <td>0</td>\n",
       "      <td>2</td>\n",
       "      <td>197</td>\n",
       "      <td>41</td>\n",
       "      <td>197</td>\n",
       "      <td>1698329401</td>\n",
       "      <td>english</td>\n",
       "      <td>GOAT Game !!</td>\n",
       "      <td>1698329419</td>\n",
       "      <td>1698329419</td>\n",
       "      <td>1</td>\n",
       "      <td>0.0</td>\n",
       "      <td>0</td>\n",
       "      <td>1</td>\n",
       "    </tr>\n",
       "    <tr>\n",
       "      <th>5</th>\n",
       "      <td>148906148</td>\n",
       "      <td>10</td>\n",
       "      <td>Counter-Strike</td>\n",
       "      <td>76561198198293481</td>\n",
       "      <td>22</td>\n",
       "      <td>2</td>\n",
       "      <td>1685</td>\n",
       "      <td>70</td>\n",
       "      <td>1649</td>\n",
       "      <td>1698323046</td>\n",
       "      <td>russian</td>\n",
       "      <td>топ</td>\n",
       "      <td>1698321840</td>\n",
       "      <td>1698321840</td>\n",
       "      <td>1</td>\n",
       "      <td>0.0</td>\n",
       "      <td>0</td>\n",
       "      <td>1</td>\n",
       "    </tr>\n",
       "    <tr>\n",
       "      <th>6</th>\n",
       "      <td>148905699</td>\n",
       "      <td>10</td>\n",
       "      <td>Counter-Strike</td>\n",
       "      <td>76561198820122182</td>\n",
       "      <td>88</td>\n",
       "      <td>39</td>\n",
       "      <td>11</td>\n",
       "      <td>0</td>\n",
       "      <td>11</td>\n",
       "      <td>1695752100</td>\n",
       "      <td>turkish</td>\n",
       "      <td>eskisi kadar sarmiyor</td>\n",
       "      <td>1698321259</td>\n",
       "      <td>1698321259</td>\n",
       "      <td>1</td>\n",
       "      <td>0.0</td>\n",
       "      <td>0</td>\n",
       "      <td>0</td>\n",
       "    </tr>\n",
       "    <tr>\n",
       "      <th>7</th>\n",
       "      <td>148900627</td>\n",
       "      <td>10</td>\n",
       "      <td>Counter-Strike</td>\n",
       "      <td>76561198346217916</td>\n",
       "      <td>0</td>\n",
       "      <td>2</td>\n",
       "      <td>45119</td>\n",
       "      <td>503</td>\n",
       "      <td>45119</td>\n",
       "      <td>1698157431</td>\n",
       "      <td>russian</td>\n",
       "      <td>Идеальная</td>\n",
       "      <td>1698314419</td>\n",
       "      <td>1698314419</td>\n",
       "      <td>1</td>\n",
       "      <td>0.0</td>\n",
       "      <td>0</td>\n",
       "      <td>1</td>\n",
       "    </tr>\n",
       "    <tr>\n",
       "      <th>8</th>\n",
       "      <td>148899121</td>\n",
       "      <td>10</td>\n",
       "      <td>Counter-Strike</td>\n",
       "      <td>76561199143791757</td>\n",
       "      <td>9</td>\n",
       "      <td>4</td>\n",
       "      <td>1271</td>\n",
       "      <td>973</td>\n",
       "      <td>1202</td>\n",
       "      <td>1698338304</td>\n",
       "      <td>russian</td>\n",
       "      <td>топ</td>\n",
       "      <td>1698312060</td>\n",
       "      <td>1698312060</td>\n",
       "      <td>1</td>\n",
       "      <td>0.0</td>\n",
       "      <td>0</td>\n",
       "      <td>1</td>\n",
       "    </tr>\n",
       "    <tr>\n",
       "      <th>9</th>\n",
       "      <td>148898785</td>\n",
       "      <td>10</td>\n",
       "      <td>Counter-Strike</td>\n",
       "      <td>76561198853145449</td>\n",
       "      <td>491</td>\n",
       "      <td>60</td>\n",
       "      <td>721</td>\n",
       "      <td>0</td>\n",
       "      <td>721</td>\n",
       "      <td>1660831719</td>\n",
       "      <td>schinese</td>\n",
       "      <td>史上最优秀的fps游戏，众多国产游戏抄袭的对象，永远无法跨越的经典</td>\n",
       "      <td>1698311451</td>\n",
       "      <td>1698311451</td>\n",
       "      <td>1</td>\n",
       "      <td>0.0</td>\n",
       "      <td>0</td>\n",
       "      <td>1</td>\n",
       "    </tr>\n",
       "  </tbody>\n",
       "</table>\n",
       "</div>"
      ],
      "text/plain": [
       "  recommendationid appid            game     author_steamid  \\\n",
       "0        148919893    10  Counter-Strike  76561199036724879   \n",
       "1        148919350    10  Counter-Strike  76561198826729322   \n",
       "2        148913051    10  Counter-Strike  76561199101237625   \n",
       "3        148912714    10  Counter-Strike  76561198347582422   \n",
       "4        148912575    10  Counter-Strike  76561198363716821   \n",
       "5        148906148    10  Counter-Strike  76561198198293481   \n",
       "6        148905699    10  Counter-Strike  76561198820122182   \n",
       "7        148900627    10  Counter-Strike  76561198346217916   \n",
       "8        148899121    10  Counter-Strike  76561199143791757   \n",
       "9        148898785    10  Counter-Strike  76561198853145449   \n",
       "\n",
       "  author_num_games_owned author_num_reviews author_playtime_forever  \\\n",
       "0                      0                  3                     197   \n",
       "1                      0                 21                     441   \n",
       "2                      7                  1                    1440   \n",
       "3                     11                  4                    1636   \n",
       "4                      0                  2                     197   \n",
       "5                     22                  2                    1685   \n",
       "6                     88                 39                      11   \n",
       "7                      0                  2                   45119   \n",
       "8                      9                  4                    1271   \n",
       "9                    491                 60                     721   \n",
       "\n",
       "  author_playtime_last_two_weeks author_playtime_at_review author_last_played  \\\n",
       "0                            197                       197         1698336369   \n",
       "1                             37                       441         1698335809   \n",
       "2                           1440                      1313         1698338635   \n",
       "3                             83                      1612         1698341834   \n",
       "4                             41                       197         1698329401   \n",
       "5                             70                      1649         1698323046   \n",
       "6                              0                        11         1695752100   \n",
       "7                            503                     45119         1698157431   \n",
       "8                            973                      1202         1698338304   \n",
       "9                              0                       721         1660831719   \n",
       "\n",
       "   language                             review timestamp_created  \\\n",
       "0   russian                           старость        1698336397   \n",
       "1   russian                         Лучше кс 2        1698335821   \n",
       "2   turkish                 çoh iyi ama pahalı        1698329862   \n",
       "3   russian                                топ        1698329555   \n",
       "4   english                       GOAT Game !!        1698329419   \n",
       "5   russian                                топ        1698321840   \n",
       "6   turkish              eskisi kadar sarmiyor        1698321259   \n",
       "7   russian                          Идеальная        1698314419   \n",
       "8   russian                                топ        1698312060   \n",
       "9  schinese  史上最优秀的fps游戏，众多国产游戏抄袭的对象，永远无法跨越的经典        1698311451   \n",
       "\n",
       "  timestamp_updated voted_up weighted_vote_score comment_count steam_purchase  \n",
       "0        1698336397        1                 0.0             0              1  \n",
       "1        1698335821        1                 0.0             0              1  \n",
       "2        1698329862        1                 0.0             0              1  \n",
       "3        1698329555        1                 0.0             0              1  \n",
       "4        1698329419        1                 0.0             0              1  \n",
       "5        1698321840        1                 0.0             0              1  \n",
       "6        1698321259        1                 0.0             0              0  \n",
       "7        1698314419        1                 0.0             0              1  \n",
       "8        1698312060        1                 0.0             0              1  \n",
       "9        1698311451        1                 0.0             0              1  "
      ]
     },
     "metadata": {},
     "output_type": "display_data"
    }
   ],
   "source": [
    "# Taking a small sample and displaying the result\n",
    "\n",
    "sample = reviews.limit(10).toPandas()\n",
    "display(sample)"
   ]
  },
  {
   "cell_type": "markdown",
   "id": "34f8eefb-3731-4511-8d8f-ca5758fdbfbf",
   "metadata": {},
   "source": [
    "With our dataset optimized, we will now clean our dataset. We will now clean our dataset, more specifically, we want to make sure \n",
    "that all the reviews are valid and in a format that we can work with. It is somewhat difficult to efficiently drop \"low quality\" accounts. \n",
    "It would be easy to run a sanity check if we drop all accounts that do not own any games, as spam accounts are very likely to not have spent \n",
    "any money on the account. But Steam doesn't count free-to-play games as \"owned\" by the account holder, so if someone exclusively play free-to-play \n",
    "games, their number of games owned would be 0 but they wouldn't be a spam account. So, to remedy this, we will apply a filter that utilize steam_pruchase \n",
    "where 1 means that the user has purchased the game (much less likely being a spam account) and 0 means that the user haven't. We will an or operator to this \n",
    "where we have some leniency of checking if the user has owned a game (again, much less likely being a spam account). While this might not be perfect, it still \n",
    "runs a sanity check to remove very suspicious spam and bot accounts. "
   ]
  },
  {
   "cell_type": "markdown",
   "id": "2327a215-e60d-4440-afed-e3577a063fa0",
   "metadata": {},
   "source": [
    "However, before that, we need to check if the column types match up with what we plan to do with the dataset."
   ]
  },
  {
   "cell_type": "code",
   "execution_count": 11,
   "id": "03d375d6-c6ab-427e-a79b-e012f61a4ae8",
   "metadata": {},
   "outputs": [
    {
     "name": "stdout",
     "output_type": "stream",
     "text": [
      "root\n",
      " |-- recommendationid: string (nullable = true)\n",
      " |-- appid: string (nullable = true)\n",
      " |-- game: string (nullable = true)\n",
      " |-- author_steamid: string (nullable = true)\n",
      " |-- author_num_games_owned: string (nullable = true)\n",
      " |-- author_num_reviews: string (nullable = true)\n",
      " |-- author_playtime_forever: string (nullable = true)\n",
      " |-- author_playtime_last_two_weeks: string (nullable = true)\n",
      " |-- author_playtime_at_review: string (nullable = true)\n",
      " |-- author_last_played: string (nullable = true)\n",
      " |-- language: string (nullable = true)\n",
      " |-- review: string (nullable = true)\n",
      " |-- timestamp_created: string (nullable = true)\n",
      " |-- timestamp_updated: string (nullable = true)\n",
      " |-- voted_up: string (nullable = true)\n",
      " |-- weighted_vote_score: string (nullable = true)\n",
      " |-- comment_count: string (nullable = true)\n",
      " |-- steam_purchase: string (nullable = true)\n",
      "\n"
     ]
    }
   ],
   "source": [
    "reviews.printSchema()"
   ]
  },
  {
   "cell_type": "markdown",
   "id": "2bbaa912-7cf9-4700-8575-aaf4315489c7",
   "metadata": {},
   "source": [
    "We can see that all of these values are in string, we need to cast some of these columns to int to match with what we want to do."
   ]
  },
  {
   "cell_type": "code",
   "execution_count": 12,
   "id": "93841383-80dd-4eb3-90e5-e2b80d752c40",
   "metadata": {},
   "outputs": [],
   "source": [
    "reviews = reviews.select(reviews.recommendationid,\n",
    "                         reviews.appid.cast('int'),\n",
    "                         reviews.game,\n",
    "                         reviews.author_steamid,\n",
    "                         reviews.author_num_games_owned.cast('int'),\n",
    "                         reviews.author_num_reviews.cast('int'),\n",
    "                         reviews.author_playtime_forever.cast('int'),\n",
    "                         reviews.author_playtime_last_two_weeks.cast('int'),\n",
    "                         reviews.author_playtime_at_review.cast('int'),\n",
    "                         reviews.author_last_played,\n",
    "                         reviews.language,\n",
    "                         reviews.review,\n",
    "                         reviews.timestamp_created,\n",
    "                         reviews.timestamp_updated,\n",
    "                         reviews.voted_up.cast('int'),\n",
    "                         reviews.comment_count.cast('int'),\n",
    "                         reviews.weighted_vote_score.cast('float'),\n",
    "                         reviews.steam_purchase.cast('int'))"
   ]
  },
  {
   "cell_type": "code",
   "execution_count": 13,
   "id": "3a107b99-ee0d-4168-b759-606c2154ff62",
   "metadata": {},
   "outputs": [
    {
     "name": "stdout",
     "output_type": "stream",
     "text": [
      "root\n",
      " |-- recommendationid: string (nullable = true)\n",
      " |-- appid: integer (nullable = true)\n",
      " |-- game: string (nullable = true)\n",
      " |-- author_steamid: string (nullable = true)\n",
      " |-- author_num_games_owned: integer (nullable = true)\n",
      " |-- author_num_reviews: integer (nullable = true)\n",
      " |-- author_playtime_forever: integer (nullable = true)\n",
      " |-- author_playtime_last_two_weeks: integer (nullable = true)\n",
      " |-- author_playtime_at_review: integer (nullable = true)\n",
      " |-- author_last_played: string (nullable = true)\n",
      " |-- language: string (nullable = true)\n",
      " |-- review: string (nullable = true)\n",
      " |-- timestamp_created: string (nullable = true)\n",
      " |-- timestamp_updated: string (nullable = true)\n",
      " |-- voted_up: integer (nullable = true)\n",
      " |-- comment_count: integer (nullable = true)\n",
      " |-- weighted_vote_score: float (nullable = true)\n",
      " |-- steam_purchase: integer (nullable = true)\n",
      "\n"
     ]
    }
   ],
   "source": [
    "reviews.printSchema()"
   ]
  },
  {
   "cell_type": "markdown",
   "id": "b1687ab1-ff32-416c-9be2-ebb346859e43",
   "metadata": {},
   "source": [
    "With the column types updated, we will now apply our filter to make sure we only have English reviews as well as minimized the occurence of fake accounts."
   ]
  },
  {
   "cell_type": "code",
   "execution_count": 14,
   "id": "cb5b52eb-f62f-47a1-9db0-5f751da52bff",
   "metadata": {},
   "outputs": [],
   "source": [
    "reviews = reviews.filter(reviews.language == 'english') # We only want English reviews\n",
    "reviews = reviews.filter((reviews.steam_purchase == 1) | \n",
    "                         ((reviews.author_num_games_owned >= 1) \n",
    "                          & (reviews.steam_purchase == 0))) # Make sure that the user has atleast bought 1 game or has atleast 1 game in their library\n",
    "reviews = reviews.filter(reviews.author_playtime_at_review > 0)  # Make sure that the reviewer actually played the game, even for a minute\n",
    "reviews = reviews.filter(reviews.author_playtime_forever > 0) # Same principle as above\n",
    "reviews = reviews.filter(reviews.voted_up.isin(1, 0)) # Make sure that we are only getting integers in the voted up column\n",
    "reviews = reviews.dropna() # Drop null values"
   ]
  },
  {
   "cell_type": "code",
   "execution_count": 15,
   "id": "321e9220-5aef-4266-9595-3861a7e051f6",
   "metadata": {
    "editable": true,
    "slideshow": {
     "slide_type": ""
    },
    "tags": []
   },
   "outputs": [
    {
     "name": "stdout",
     "output_type": "stream",
     "text": [
      "There are 40427981 entries in the dataset after cleaning.\n"
     ]
    }
   ],
   "source": [
    "total_count = reviews.count()\n",
    "print(f'There are {total_count} entries in the dataset after cleaning.')"
   ]
  },
  {
   "cell_type": "markdown",
   "id": "c92cfe75-5a9e-4c06-8312-c8c0c5c601f9",
   "metadata": {},
   "source": [
    "### Data Exploration"
   ]
  },
  {
   "cell_type": "markdown",
   "id": "00fcd2ca-c633-46a4-a4e9-673dddc98a61",
   "metadata": {},
   "source": [
    "We will now shift our focus to the second part of our data exploration, where we will investigate data distributions and obersvations, as well as \n",
    "presenting them in graph forms. Lastly, we will also process our review column (i.e. tokenization, stopword removal, etc)."
   ]
  },
  {
   "cell_type": "markdown",
   "id": "c7ee80de-a4f2-4ace-b133-bb1b7f4946d3",
   "metadata": {},
   "source": [
    "To start it off, the following cell will visualize the overall distribution of voted up (recommended) compared to voted down."
   ]
  },
  {
   "cell_type": "code",
   "execution_count": 16,
   "id": "7305018f-0943-456e-877d-9f1127ceadf9",
   "metadata": {},
   "outputs": [
    {
     "data": {
      "text/html": [
       "<div>\n",
       "<style scoped>\n",
       "    .dataframe tbody tr th:only-of-type {\n",
       "        vertical-align: middle;\n",
       "    }\n",
       "\n",
       "    .dataframe tbody tr th {\n",
       "        vertical-align: top;\n",
       "    }\n",
       "\n",
       "    .dataframe thead th {\n",
       "        text-align: right;\n",
       "    }\n",
       "</style>\n",
       "<table border=\"1\" class=\"dataframe\">\n",
       "  <thead>\n",
       "    <tr style=\"text-align: right;\">\n",
       "      <th></th>\n",
       "      <th>voted_up</th>\n",
       "      <th>count</th>\n",
       "    </tr>\n",
       "  </thead>\n",
       "  <tbody>\n",
       "    <tr>\n",
       "      <th>0</th>\n",
       "      <td>1</td>\n",
       "      <td>35332716</td>\n",
       "    </tr>\n",
       "    <tr>\n",
       "      <th>1</th>\n",
       "      <td>0</td>\n",
       "      <td>5095265</td>\n",
       "    </tr>\n",
       "  </tbody>\n",
       "</table>\n",
       "</div>"
      ],
      "text/plain": [
       "   voted_up     count\n",
       "0         1  35332716\n",
       "1         0   5095265"
      ]
     },
     "metadata": {},
     "output_type": "display_data"
    }
   ],
   "source": [
    "voted_up_count = reviews.groupBy('voted_up').count().toPandas()\n",
    "display(voted_up_count)"
   ]
  },
  {
   "cell_type": "code",
   "execution_count": 17,
   "id": "b2031638-16fc-4172-9d3e-3d0febca7abb",
   "metadata": {},
   "outputs": [
    {
     "name": "stdout",
     "output_type": "stream",
     "text": [
      "Out of all the games, 35332716 reviews recommended their respective games, while 5095265 reviews did not. This equates to 87.4% of the reviews voting up, and 12.6% voting down.\n"
     ]
    }
   ],
   "source": [
    "print(f'Out of all the games, {voted_up_count[\"count\"].iloc[0]} reviews recommended their respective games, while {voted_up_count[\"count\"].iloc[1]} reviews did not. ' +\n",
    "        f'This equates to {round(voted_up_count[\"count\"].iloc[0]/total_count*100, 2)}% of the reviews voting up, and {round(voted_up_count[\"count\"].iloc[1]/total_count*100, 2)}% voting down.')"
   ]
  },
  {
   "cell_type": "markdown",
   "id": "4aa4322e-75b8-4eed-bda4-9e4533ab6838",
   "metadata": {},
   "source": [
    "This result is quite skewed, we will attempt to downsample our dataset to have atleast a 60-40 distribution between positive and negative. This will also help with our \n",
    "runtime and memory allocation as 40 millions is much too heavy for spark to handle in this enviornment. "
   ]
  },
  {
   "cell_type": "markdown",
   "id": "3150dbbe-8700-497d-8ba3-0981af38e4c4",
   "metadata": {},
   "source": [
    "The following sections will explore basic distributions and observations. Aiming to provide a rough overview \n",
    "of what we are working with. The following cell will see what the current top 20 most reviewed games are:"
   ]
  },
  {
   "cell_type": "code",
   "execution_count": 18,
   "id": "cf94b316-b02b-4575-9f6c-476fb3121d20",
   "metadata": {},
   "outputs": [
    {
     "data": {
      "text/html": [
       "<div>\n",
       "<style scoped>\n",
       "    .dataframe tbody tr th:only-of-type {\n",
       "        vertical-align: middle;\n",
       "    }\n",
       "\n",
       "    .dataframe tbody tr th {\n",
       "        vertical-align: top;\n",
       "    }\n",
       "\n",
       "    .dataframe thead th {\n",
       "        text-align: right;\n",
       "    }\n",
       "</style>\n",
       "<table border=\"1\" class=\"dataframe\">\n",
       "  <thead>\n",
       "    <tr style=\"text-align: right;\">\n",
       "      <th></th>\n",
       "      <th>game</th>\n",
       "      <th>count</th>\n",
       "    </tr>\n",
       "  </thead>\n",
       "  <tbody>\n",
       "    <tr>\n",
       "      <th>0</th>\n",
       "      <td>Counter-Strike 2</td>\n",
       "      <td>1671181</td>\n",
       "    </tr>\n",
       "    <tr>\n",
       "      <th>1</th>\n",
       "      <td>Terraria</td>\n",
       "      <td>541171</td>\n",
       "    </tr>\n",
       "    <tr>\n",
       "      <th>2</th>\n",
       "      <td>Tom Clancy's Rainbow Six Siege</td>\n",
       "      <td>510818</td>\n",
       "    </tr>\n",
       "    <tr>\n",
       "      <th>3</th>\n",
       "      <td>Grand Theft Auto V</td>\n",
       "      <td>488025</td>\n",
       "    </tr>\n",
       "    <tr>\n",
       "      <th>4</th>\n",
       "      <td>Garry's Mod</td>\n",
       "      <td>469161</td>\n",
       "    </tr>\n",
       "    <tr>\n",
       "      <th>5</th>\n",
       "      <td>Rust</td>\n",
       "      <td>466190</td>\n",
       "    </tr>\n",
       "    <tr>\n",
       "      <th>6</th>\n",
       "      <td>Among Us</td>\n",
       "      <td>369686</td>\n",
       "    </tr>\n",
       "    <tr>\n",
       "      <th>7</th>\n",
       "      <td>PUBG: BATTLEGROUNDS</td>\n",
       "      <td>328506</td>\n",
       "    </tr>\n",
       "    <tr>\n",
       "      <th>8</th>\n",
       "      <td>ELDEN RING</td>\n",
       "      <td>326254</td>\n",
       "    </tr>\n",
       "    <tr>\n",
       "      <th>9</th>\n",
       "      <td>Phasmophobia</td>\n",
       "      <td>295832</td>\n",
       "    </tr>\n",
       "    <tr>\n",
       "      <th>10</th>\n",
       "      <td>Team Fortress 2</td>\n",
       "      <td>289562</td>\n",
       "    </tr>\n",
       "    <tr>\n",
       "      <th>11</th>\n",
       "      <td>Stardew Valley</td>\n",
       "      <td>280429</td>\n",
       "    </tr>\n",
       "    <tr>\n",
       "      <th>12</th>\n",
       "      <td>Cyberpunk 2077</td>\n",
       "      <td>258700</td>\n",
       "    </tr>\n",
       "    <tr>\n",
       "      <th>13</th>\n",
       "      <td>Rocket League</td>\n",
       "      <td>254558</td>\n",
       "    </tr>\n",
       "    <tr>\n",
       "      <th>14</th>\n",
       "      <td>ARK: Survival Evolved</td>\n",
       "      <td>252506</td>\n",
       "    </tr>\n",
       "    <tr>\n",
       "      <th>15</th>\n",
       "      <td>Dead by Daylight</td>\n",
       "      <td>226109</td>\n",
       "    </tr>\n",
       "    <tr>\n",
       "      <th>16</th>\n",
       "      <td>Baldur's Gate 3</td>\n",
       "      <td>224135</td>\n",
       "    </tr>\n",
       "    <tr>\n",
       "      <th>17</th>\n",
       "      <td>PAYDAY 2</td>\n",
       "      <td>209439</td>\n",
       "    </tr>\n",
       "    <tr>\n",
       "      <th>18</th>\n",
       "      <td>Left 4 Dead 2</td>\n",
       "      <td>204012</td>\n",
       "    </tr>\n",
       "    <tr>\n",
       "      <th>19</th>\n",
       "      <td>The Witcher 3: Wild Hunt</td>\n",
       "      <td>201910</td>\n",
       "    </tr>\n",
       "  </tbody>\n",
       "</table>\n",
       "</div>"
      ],
      "text/plain": [
       "                              game    count\n",
       "0                 Counter-Strike 2  1671181\n",
       "1                         Terraria   541171\n",
       "2   Tom Clancy's Rainbow Six Siege   510818\n",
       "3               Grand Theft Auto V   488025\n",
       "4                      Garry's Mod   469161\n",
       "5                             Rust   466190\n",
       "6                         Among Us   369686\n",
       "7              PUBG: BATTLEGROUNDS   328506\n",
       "8                       ELDEN RING   326254\n",
       "9                     Phasmophobia   295832\n",
       "10                 Team Fortress 2   289562\n",
       "11                  Stardew Valley   280429\n",
       "12                  Cyberpunk 2077   258700\n",
       "13                   Rocket League   254558\n",
       "14           ARK: Survival Evolved   252506\n",
       "15                Dead by Daylight   226109\n",
       "16                 Baldur's Gate 3   224135\n",
       "17                        PAYDAY 2   209439\n",
       "18                   Left 4 Dead 2   204012\n",
       "19        The Witcher 3: Wild Hunt   201910"
      ]
     },
     "metadata": {},
     "output_type": "display_data"
    }
   ],
   "source": [
    "top_20_games = reviews.groupBy('game').count().orderBy('count', ascending=False).limit(20)\n",
    "top_20_games = top_20_games.toPandas()\n",
    "display(top_20_games)"
   ]
  },
  {
   "cell_type": "markdown",
   "id": "ae7faf94-b231-4537-bac3-1d8366841a21",
   "metadata": {},
   "source": [
    "The following cell will graph a visual representation of game distribution:"
   ]
  },
  {
   "cell_type": "code",
   "execution_count": 44,
   "id": "86f316fd-1b05-4912-9182-fc594257f7bd",
   "metadata": {},
   "outputs": [
    {
     "data": {
      "image/png": "[encoded data removed]",
      "text/plain": [
       "<Figure size 1000x500 with 1 Axes>"
      ]
     },
     "metadata": {},
     "output_type": "display_data"
    }
   ],
   "source": [
    "import matplotlib.pyplot as plt\n",
    "\n",
    "plt.figure(figsize=(10, 5))\n",
    "plt.bar(top_20_games['game'], top_20_games['count'])\n",
    "plt.title('Top 20 Reviewed Games')\n",
    "plt.xlabel('Game Name')\n",
    "plt.ylabel('Number of Reviews (Millions)')\n",
    "plt.xticks(rotation=40, ha='right')\n",
    "plt.show()"
   ]
  },
  {
   "cell_type": "markdown",
   "id": "4eb7fa83-c902-4575-bcf5-62a5fac8fdb0",
   "metadata": {},
   "source": [
    "From this, we can see that there are quite a lot of reviews for Counter-Strike 2! It seems like it is currently the most popular game, with a little over 3 times \n",
    "the review of the second game. So, it seems like our recommendation system will be working with Counter-Strike 2 the most. "
   ]
  },
  {
   "cell_type": "code",
   "execution_count": 20,
   "id": "e9127d5d-14a6-42c7-9df6-a34927648ace",
   "metadata": {},
   "outputs": [
    {
     "data": {
      "text/html": [
       "<div>\n",
       "<style scoped>\n",
       "    .dataframe tbody tr th:only-of-type {\n",
       "        vertical-align: middle;\n",
       "    }\n",
       "\n",
       "    .dataframe tbody tr th {\n",
       "        vertical-align: top;\n",
       "    }\n",
       "\n",
       "    .dataframe thead th {\n",
       "        text-align: right;\n",
       "    }\n",
       "</style>\n",
       "<table border=\"1\" class=\"dataframe\">\n",
       "  <thead>\n",
       "    <tr style=\"text-align: right;\">\n",
       "      <th></th>\n",
       "      <th>game</th>\n",
       "      <th>average playtime</th>\n",
       "    </tr>\n",
       "  </thead>\n",
       "  <tbody>\n",
       "    <tr>\n",
       "      <th>17</th>\n",
       "      <td>Counter-Strike 2</td>\n",
       "      <td>1144.519765</td>\n",
       "    </tr>\n",
       "    <tr>\n",
       "      <th>5</th>\n",
       "      <td>Rust</td>\n",
       "      <td>1022.012823</td>\n",
       "    </tr>\n",
       "    <tr>\n",
       "      <th>14</th>\n",
       "      <td>Team Fortress 2</td>\n",
       "      <td>958.340833</td>\n",
       "    </tr>\n",
       "    <tr>\n",
       "      <th>6</th>\n",
       "      <td>Rocket League</td>\n",
       "      <td>903.542835</td>\n",
       "    </tr>\n",
       "    <tr>\n",
       "      <th>9</th>\n",
       "      <td>ARK: Survival Evolved</td>\n",
       "      <td>785.044859</td>\n",
       "    </tr>\n",
       "    <tr>\n",
       "      <th>12</th>\n",
       "      <td>Garry's Mod</td>\n",
       "      <td>661.187541</td>\n",
       "    </tr>\n",
       "    <tr>\n",
       "      <th>10</th>\n",
       "      <td>Tom Clancy's Rainbow Six Siege</td>\n",
       "      <td>590.717222</td>\n",
       "    </tr>\n",
       "    <tr>\n",
       "      <th>11</th>\n",
       "      <td>Dead by Daylight</td>\n",
       "      <td>570.703271</td>\n",
       "    </tr>\n",
       "    <tr>\n",
       "      <th>16</th>\n",
       "      <td>PUBG: BATTLEGROUNDS</td>\n",
       "      <td>544.523183</td>\n",
       "    </tr>\n",
       "    <tr>\n",
       "      <th>0</th>\n",
       "      <td>Terraria</td>\n",
       "      <td>394.098752</td>\n",
       "    </tr>\n",
       "    <tr>\n",
       "      <th>7</th>\n",
       "      <td>Grand Theft Auto V</td>\n",
       "      <td>356.662107</td>\n",
       "    </tr>\n",
       "    <tr>\n",
       "      <th>4</th>\n",
       "      <td>PAYDAY 2</td>\n",
       "      <td>236.504443</td>\n",
       "    </tr>\n",
       "    <tr>\n",
       "      <th>13</th>\n",
       "      <td>Stardew Valley</td>\n",
       "      <td>207.390062</td>\n",
       "    </tr>\n",
       "    <tr>\n",
       "      <th>15</th>\n",
       "      <td>Left 4 Dead 2</td>\n",
       "      <td>192.771758</td>\n",
       "    </tr>\n",
       "    <tr>\n",
       "      <th>3</th>\n",
       "      <td>ELDEN RING</td>\n",
       "      <td>186.668842</td>\n",
       "    </tr>\n",
       "    <tr>\n",
       "      <th>1</th>\n",
       "      <td>Baldur's Gate 3</td>\n",
       "      <td>173.228026</td>\n",
       "    </tr>\n",
       "    <tr>\n",
       "      <th>8</th>\n",
       "      <td>The Witcher 3: Wild Hunt</td>\n",
       "      <td>172.873621</td>\n",
       "    </tr>\n",
       "    <tr>\n",
       "      <th>2</th>\n",
       "      <td>Cyberpunk 2077</td>\n",
       "      <td>138.610276</td>\n",
       "    </tr>\n",
       "    <tr>\n",
       "      <th>18</th>\n",
       "      <td>Phasmophobia</td>\n",
       "      <td>82.010745</td>\n",
       "    </tr>\n",
       "    <tr>\n",
       "      <th>19</th>\n",
       "      <td>Among Us</td>\n",
       "      <td>60.462001</td>\n",
       "    </tr>\n",
       "  </tbody>\n",
       "</table>\n",
       "</div>"
      ],
      "text/plain": [
       "                              game  average playtime\n",
       "17                Counter-Strike 2       1144.519765\n",
       "5                             Rust       1022.012823\n",
       "14                 Team Fortress 2        958.340833\n",
       "6                    Rocket League        903.542835\n",
       "9            ARK: Survival Evolved        785.044859\n",
       "12                     Garry's Mod        661.187541\n",
       "10  Tom Clancy's Rainbow Six Siege        590.717222\n",
       "11                Dead by Daylight        570.703271\n",
       "16             PUBG: BATTLEGROUNDS        544.523183\n",
       "0                         Terraria        394.098752\n",
       "7               Grand Theft Auto V        356.662107\n",
       "4                         PAYDAY 2        236.504443\n",
       "13                  Stardew Valley        207.390062\n",
       "15                   Left 4 Dead 2        192.771758\n",
       "3                       ELDEN RING        186.668842\n",
       "1                  Baldur's Gate 3        173.228026\n",
       "8         The Witcher 3: Wild Hunt        172.873621\n",
       "2                   Cyberpunk 2077        138.610276\n",
       "18                    Phasmophobia         82.010745\n",
       "19                        Among Us         60.462001"
      ]
     },
     "metadata": {},
     "output_type": "display_data"
    }
   ],
   "source": [
    "from pyspark.sql.functions import avg\n",
    "\n",
    "game_list = top_20_games['game'].tolist()\n",
    "playtime_top_20_games = reviews.filter(reviews['game'].isin(game_list))\n",
    "playtime_top_20_games = playtime_top_20_games.select('game', 'author_playtime_forever').groupBy('game').agg(avg('author_playtime_forever').alias('average playtime')).toPandas()\n",
    "playtime_top_20_games['average playtime'] = playtime_top_20_games['average playtime'] / 60 # Since the column is provided in minutes, get the hours instead\n",
    "playtime_top_20_games = playtime_top_20_games.sort_values(by='average playtime', ascending=False)\n",
    "display(playtime_top_20_games)"
   ]
  },
  {
   "cell_type": "code",
   "execution_count": 21,
   "id": "79c5f8c1-35a2-43a4-83cd-bc9ec4e4093d",
   "metadata": {},
   "outputs": [
    {
     "data": {
      "image/png": "[encoded data removed]",
      "text/plain": [
       "<Figure size 1000x500 with 1 Axes>"
      ]
     },
     "metadata": {},
     "output_type": "display_data"
    }
   ],
   "source": [
    "plt.figure(figsize=(10, 5))\n",
    "plt.bar(playtime_top_20_games['game'], playtime_top_20_games['average playtime'])\n",
    "plt.title('Playtime of Top 20 Reviewed Games')\n",
    "plt.xlabel('Game Name')\n",
    "plt.ylabel('Hours Played')\n",
    "plt.xticks(rotation=40, ha='right')\n",
    "plt.show()"
   ]
  },
  {
   "cell_type": "markdown",
   "id": "179b39bb-b6c6-487a-90e6-d5892ff718e0",
   "metadata": {},
   "source": [
    "Wow, it looks like Counter-Strike 2 and Rust is quite popular! Both have over 1000 hours. "
   ]
  },
  {
   "cell_type": "markdown",
   "id": "50d372e2-7237-4bd9-bf16-7d4f3a429d82",
   "metadata": {},
   "source": [
    "The following cell will explore the overall distribution of playtime across the entire dataset, presented with histogram. First \n",
    "we will take a small sample of data points from the main dataset as graphing libraries are not powerful enough to display data from the whole dataset."
   ]
  },
  {
   "cell_type": "code",
   "execution_count": 22,
   "id": "9685c235-12d6-4165-91bf-ca0c8d8b1f30",
   "metadata": {},
   "outputs": [
    {
     "name": "stdout",
     "output_type": "stream",
     "text": [
      "The sample has a size of 40288.\n"
     ]
    }
   ],
   "source": [
    "sampled_reviews = reviews.sample(False, 0.001, seed=66).toPandas()\n",
    "print(f'The sample has a size of {len(sampled_reviews)}.')"
   ]
  },
  {
   "cell_type": "markdown",
   "id": "4a57bb4f-9e81-422f-b6bc-4554dd805329",
   "metadata": {},
   "source": [
    "With this, we will take the log of the dataset as the playtime can vary widely, which will make the histogram very hard to visualize."
   ]
  },
  {
   "cell_type": "code",
   "execution_count": 23,
   "id": "9697a85b-4b87-4ad0-80f0-4fc44cc82c8b",
   "metadata": {},
   "outputs": [
    {
     "data": {
      "image/png": "[encoded data removed]",
      "text/plain": [
       "<Figure size 640x480 with 1 Axes>"
      ]
     },
     "metadata": {},
     "output_type": "display_data"
    }
   ],
   "source": [
    "import seaborn as sns\n",
    "import numpy as np\n",
    "\n",
    "total_playtime_distribution = sampled_reviews.copy()\n",
    "total_playtime_distribution['author_playtime_forever'] = np.log10(total_playtime_distribution['author_playtime_forever'])\n",
    "sns.histplot(total_playtime_distribution, x='author_playtime_forever', label='Distribution of Playtime', bins=20)\n",
    "plt.title('Distribution of playtime across all users')\n",
    "plt.show()"
   ]
  },
  {
   "cell_type": "markdown",
   "id": "9485cbed-f630-46ad-9b26-3ea6ec8a3594",
   "metadata": {},
   "source": [
    "The distribution seems to be mostly normal, and we can see that the distribution most commonly congregate at around 3 to 4. With a log of 10, \n",
    "we get that 10^3 = 316 and 10^4 = 10000. Since these are recorded with minutes, we have 1000/60 = 16.6 hours and 10000/60 = 166 hours. So it seems \n",
    "like more common occurences of playtime are between that interval, so there must be some big Counter-Strike 2 and Rust fans to drive that average playtime \n",
    "up so high! Also could be that the top games also has a much bigger playerbase than the smaller games."
   ]
  },
  {
   "cell_type": "markdown",
   "id": "d47b868c-4b9f-4a09-975f-933cde9bcfd8",
   "metadata": {},
   "source": [
    "The following cell, we will explore if there are any correlation between voted_up and playtime. \n",
    "We will utilize the same sample that we have created from earlier."
   ]
  },
  {
   "cell_type": "code",
   "execution_count": 24,
   "id": "fee25902-f8a5-4098-ad29-010161b42065",
   "metadata": {},
   "outputs": [
    {
     "name": "stdout",
     "output_type": "stream",
     "text": [
      "The correlation between recommendation and playtime is 0.18194392984202515.\n"
     ]
    }
   ],
   "source": [
    "corr_vote_playtime = sampled_reviews.copy()\n",
    "corr_vote_playtime['author_playtime_forever'] = np.log10(corr_vote_playtime['author_playtime_forever'])\n",
    "corr_ = corr_vote_playtime['voted_up'].corr(corr_vote_playtime['author_playtime_forever'])\n",
    "print(f'The correlation between recommendation and playtime is {corr_}.')"
   ]
  },
  {
   "cell_type": "markdown",
   "id": "577a32e8-fd7a-4957-abbb-e9374e3d70cf",
   "metadata": {},
   "source": [
    "It seems that the there is some slight positive correlation between recommending and playtime, although it is not as strong \n",
    "as we thought, it is understandable as we are trying to assume a linearity on a very complex relationship. Some reason \n",
    "for this is that it is difficult to assume linear relationship in the first place with a binary column (voted_up is 1 or 0). \n",
    "Another being that whether users keep playing certain games can vary widely based on the nature of the game itself - for example, \n",
    "a game like PUBG: Battlegrounds, players can match up with other players for infinite replayability but for a singleplayer game \n",
    "like Cyberpunk 2077, once you beat the game, there really isn't much reason to open it again. So, that's why we have other features \n",
    "such as sentiment analysis to perfect our pipeline."
   ]
  },
  {
   "cell_type": "markdown",
   "id": "60e870dc-63af-4f36-9492-ef945b5f22d0",
   "metadata": {},
   "source": [
    "For our last exploration and graph, we will take a look at the relationship between number of games owned and playtime."
   ]
  },
  {
   "cell_type": "code",
   "execution_count": 25,
   "id": "ffab3ba9-cbea-4d14-8fde-8e8f8798bfab",
   "metadata": {},
   "outputs": [
    {
     "data": {
      "image/png": "[encoded data removed]",
      "text/plain": [
       "<Figure size 640x480 with 1 Axes>"
      ]
     },
     "metadata": {},
     "output_type": "display_data"
    }
   ],
   "source": [
    "scatter_owned_playtime = sampled_reviews.copy()\n",
    "scatter_owned_playtime = scatter_owned_playtime[['author_num_games_owned', 'author_playtime_forever']]\n",
    "\n",
    "sns.scatterplot(scatter_owned_playtime, x='author_num_games_owned', y='author_playtime_forever')\n",
    "plt.xlabel('Number of Games Owned')\n",
    "plt.ylabel('All-Time Playtime (Minutes)')\n",
    "plt.title('Games Owned and Playtime')\n",
    "plt.show()"
   ]
  },
  {
   "cell_type": "code",
   "execution_count": 26,
   "id": "fb5922fa-d242-4bde-8f31-b97d568e4404",
   "metadata": {},
   "outputs": [
    {
     "name": "stdout",
     "output_type": "stream",
     "text": [
      "The correlation between playtime and number of games owned is -0.13611357853490713.\n"
     ]
    }
   ],
   "source": [
    "corr_owned_playtime = sampled_reviews.copy()\n",
    "corr_owned_playtime['author_playtime_forever'] = np.log10(corr_owned_playtime['author_playtime_forever'])\n",
    "corr_2 = corr_owned_playtime['author_num_games_owned'].corr(corr_owned_playtime['author_playtime_forever'])\n",
    "print(f'The correlation between playtime and number of games owned is {corr_2}.')"
   ]
  },
  {
   "cell_type": "markdown",
   "id": "b11722ed-2fe2-4ca4-b9cc-86aab3c7d623",
   "metadata": {},
   "source": [
    "This result is actually expected, because as an user own more games, the less time they would have to dedicate to each game, hence the lower playtime. This is captured <br>\n",
    "in the scatterplot as well as in the negative correlation."
   ]
  },
  {
   "cell_type": "markdown",
   "id": "a5de1273-b7de-4f72-9d16-3f513c402292",
   "metadata": {},
   "source": [
    "The next section we will begin preprocessing our data and building our first model. We will attempt to do this by utilizing \n",
    "the NLTK library and tokenize our words that way. "
   ]
  },
  {
   "cell_type": "markdown",
   "id": "aed3f33a-8356-423a-8963-231918b26c53",
   "metadata": {},
   "source": [
    "# Part 3 - Building our First Model"
   ]
  },
  {
   "cell_type": "markdown",
   "id": "c0e22a6f-bd55-42a9-a19e-1a5881a947ce",
   "metadata": {},
   "source": [
    "In this section, we will build our first model - a logistic regression model that takes in our preprocessed tokens as features \n",
    "and performs a sentiment analysis to see whether the review is positive or not. To start, the following sections will begin preprocessing \n",
    "for our text reviews. We will utilize NLTK and its built-in functions like stopword removal and tokenization features. "
   ]
  },
  {
   "cell_type": "markdown",
   "id": "6a03483a-0fff-4ce8-a471-3725f1b1810e",
   "metadata": {},
   "source": [
    "### Preprocessing Text using NLTK"
   ]
  },
  {
   "cell_type": "code",
   "execution_count": 27,
   "id": "cf1ea521-4818-4793-b212-a8e7d3781160",
   "metadata": {},
   "outputs": [
    {
     "data": {
      "text/plain": [
       "True"
      ]
     },
     "execution_count": 27,
     "metadata": {},
     "output_type": "execute_result"
    }
   ],
   "source": [
    "import nltk\n",
    "from nltk.tokenize import word_tokenize\n",
    "from nltk.tokenize import sent_tokenize\n",
    "from nltk.stem import WordNetLemmatizer\n",
    "from nltk.corpus import stopwords\n",
    "\n",
    "nltk.download('punkt', quiet=True)\n",
    "nltk.download('wordnet', quiet=True)\n",
    "nltk.download('stopwords', quiet=True)\n",
    "nltk.download('punkt_tab', quiet=True)"
   ]
  },
  {
   "cell_type": "markdown",
   "id": "dcb44531-285d-4ca9-b7e4-07d83905d5d6",
   "metadata": {},
   "source": [
    "Here we will define our preprocessing function, named process_text. We will use this function on our 'review' column to get it ready for training to our models. \n",
    "We will initatilze two functions, one more splitting the review text into sentences, which is more useful for sentiment analysis, and one to tokenize individual \n",
    "words to keep as backup and to see what words are the most commonly used."
   ]
  },
  {
   "cell_type": "code",
   "execution_count": 28,
   "id": "8a2d9319-e171-434d-a961-ad8e268b3313",
   "metadata": {},
   "outputs": [],
   "source": [
    "stop_words = set(stopwords.words('english'))\n",
    "lemmatizer = WordNetLemmatizer()\n",
    "\n",
    "def process_word(text):\n",
    "    words = word_tokenize(text)\n",
    "    tokens = []\n",
    "\n",
    "    useful_punct = ['!', '-', '?']\n",
    "\n",
    "    for word in words:\n",
    "        word_lower = word.lower()\n",
    "        if word_lower not in stop_words:\n",
    "            if word.replace('-', '').isalpha():\n",
    "                word = '-'.join([lemmatizer.lemmatize(w, pos='v') for w in word.split('-')])\n",
    "                tokens.append(word)\n",
    "            elif word in useful_punct:\n",
    "                tokens.append(word)\n",
    "\n",
    "    return tokens"
   ]
  },
  {
   "cell_type": "code",
   "execution_count": 29,
   "id": "d213f939-796e-48af-b07b-80a3d65fee97",
   "metadata": {},
   "outputs": [
    {
     "data": {
      "text/plain": [
       "['sample', 'review', '!', 'Make', 'sure', 'upvote']"
      ]
     },
     "execution_count": 29,
     "metadata": {},
     "output_type": "execute_result"
    }
   ],
   "source": [
    "# Testing our function to see if it works!\n",
    "process_word('This is a sample review! Make sure to upvote this.')"
   ]
  },
  {
   "cell_type": "markdown",
   "id": "beb2c27e-49a7-4108-b2fc-34cc3e23d4e6",
   "metadata": {},
   "source": [
    "Before we start building our model, we want to address the skewed nature of the dataset where positive sentiment \n",
    "is over 86% while negative is 14%. In order for the model to not overfit, we will downsample positive sentiment \n",
    "to roughlt the same as negative. This will also help our following model processes as 40 million rows were simply \n",
    "too big to handle for the current spark enviornment. "
   ]
  },
  {
   "cell_type": "code",
   "execution_count": 30,
   "id": "045e8db8-87b8-46da-9390-e52fe7ecc36d",
   "metadata": {},
   "outputs": [],
   "source": [
    "reviews = reviews.sampleBy('voted_up', {1: 0.14, 0: 1.0}, seed=66)"
   ]
  },
  {
   "cell_type": "code",
   "execution_count": 31,
   "id": "8630a3fa-1465-4a68-b151-73152253ca7b",
   "metadata": {},
   "outputs": [
    {
     "data": {
      "text/html": [
       "<div>\n",
       "<style scoped>\n",
       "    .dataframe tbody tr th:only-of-type {\n",
       "        vertical-align: middle;\n",
       "    }\n",
       "\n",
       "    .dataframe tbody tr th {\n",
       "        vertical-align: top;\n",
       "    }\n",
       "\n",
       "    .dataframe thead th {\n",
       "        text-align: right;\n",
       "    }\n",
       "</style>\n",
       "<table border=\"1\" class=\"dataframe\">\n",
       "  <thead>\n",
       "    <tr style=\"text-align: right;\">\n",
       "      <th></th>\n",
       "      <th>voted_up</th>\n",
       "      <th>count</th>\n",
       "    </tr>\n",
       "  </thead>\n",
       "  <tbody>\n",
       "    <tr>\n",
       "      <th>0</th>\n",
       "      <td>1</td>\n",
       "      <td>4946381</td>\n",
       "    </tr>\n",
       "    <tr>\n",
       "      <th>1</th>\n",
       "      <td>0</td>\n",
       "      <td>5095265</td>\n",
       "    </tr>\n",
       "  </tbody>\n",
       "</table>\n",
       "</div>"
      ],
      "text/plain": [
       "   voted_up    count\n",
       "0         1  4946381\n",
       "1         0  5095265"
      ]
     },
     "metadata": {},
     "output_type": "display_data"
    },
    {
     "name": "stdout",
     "output_type": "stream",
     "text": [
      "The new distribution is 49.26% and 50.74%.\n"
     ]
    }
   ],
   "source": [
    "total_count_reduced = reviews.count()\n",
    "voted_up_count_reduced = reviews.groupBy('voted_up').count().toPandas()\n",
    "display(voted_up_count_reduced)\n",
    "print(f'The new distribution is {round(voted_up_count_reduced[\"count\"].iloc[0]/total_count_reduced*100, 2)}% and {round(voted_up_count_reduced[\"count\"].iloc[1]/total_count_reduced*100, 2)}%.')"
   ]
  },
  {
   "cell_type": "markdown",
   "id": "24ea7d5c-89e7-4e71-a636-25d2ee51962a",
   "metadata": {},
   "source": [
    "The following cell will convert our above function into an user defined function and apply it to our dataset."
   ]
  },
  {
   "cell_type": "code",
   "execution_count": 32,
   "id": "c3f3dcd9-216f-41ab-9229-64e0d9f98036",
   "metadata": {},
   "outputs": [],
   "source": [
    "from pyspark.sql.functions import udf\n",
    "from pyspark.sql.types import ArrayType, StringType\n",
    "\n",
    "word_udf = udf(process_word, ArrayType(StringType()))\n",
    "reviews_processed = reviews.withColumn('processed_review', word_udf(reviews['review']))"
   ]
  },
  {
   "cell_type": "markdown",
   "id": "9b73e2b0-7c4d-4ff6-9bb2-d3554736a3c0",
   "metadata": {},
   "source": [
    "Here we will take a small sample and see how it turned out by checking out 20 rows: <br>"
   ]
  },
  {
   "cell_type": "code",
   "execution_count": 33,
   "id": "940ad59f-5767-4db2-8c03-7aa85b0e219a",
   "metadata": {},
   "outputs": [
    {
     "name": "stdout",
     "output_type": "stream",
     "text": [
      "Word Processed\n"
     ]
    },
    {
     "data": {
      "text/html": [
       "<div>\n",
       "<style scoped>\n",
       "    .dataframe tbody tr th:only-of-type {\n",
       "        vertical-align: middle;\n",
       "    }\n",
       "\n",
       "    .dataframe tbody tr th {\n",
       "        vertical-align: top;\n",
       "    }\n",
       "\n",
       "    .dataframe thead th {\n",
       "        text-align: right;\n",
       "    }\n",
       "</style>\n",
       "<table border=\"1\" class=\"dataframe\">\n",
       "  <thead>\n",
       "    <tr style=\"text-align: right;\">\n",
       "      <th></th>\n",
       "      <th>review</th>\n",
       "      <th>processed_review</th>\n",
       "    </tr>\n",
       "  </thead>\n",
       "  <tbody>\n",
       "    <tr>\n",
       "      <th>0</th>\n",
       "      <td>cs2 update made the game barely playable on my...</td>\n",
       "      <td>[update, make, game, barely, playable, laptop,...</td>\n",
       "    </tr>\n",
       "    <tr>\n",
       "      <th>2</th>\n",
       "      <td>Counter-Strike 1.6 was a significant part of m...</td>\n",
       "      <td>[Counter-Strike, significant, part, childhood,...</td>\n",
       "    </tr>\n",
       "    <tr>\n",
       "      <th>3</th>\n",
       "      <td>I didn't get to play it during its peak. But e...</td>\n",
       "      <td>[get, play, peak, even, years, good, game]</td>\n",
       "    </tr>\n",
       "    <tr>\n",
       "      <th>4</th>\n",
       "      <td>classic. the best of the best since '03. with ...</td>\n",
       "      <td>[classic, best, best, since, cs, go, removal, ...</td>\n",
       "    </tr>\n",
       "    <tr>\n",
       "      <th>5</th>\n",
       "      <td>The phantom. Exterior like fish eggs. Interior...</td>\n",
       "      <td>[phantom, Exterior, like, fish, egg, Interior,...</td>\n",
       "    </tr>\n",
       "    <tr>\n",
       "      <th>6</th>\n",
       "      <td>Great</td>\n",
       "      <td>[Great]</td>\n",
       "    </tr>\n",
       "    <tr>\n",
       "      <th>7</th>\n",
       "      <td>sneak + a d is awesome</td>\n",
       "      <td>[sneak, awesome]</td>\n",
       "    </tr>\n",
       "    <tr>\n",
       "      <th>8</th>\n",
       "      <td>There are portals.</td>\n",
       "      <td>[portals]</td>\n",
       "    </tr>\n",
       "    <tr>\n",
       "      <th>9</th>\n",
       "      <td>countr stik</td>\n",
       "      <td>[countr, stik]</td>\n",
       "    </tr>\n",
       "    <tr>\n",
       "      <th>10</th>\n",
       "      <td>An absolute masterpiece of it's time. I want t...</td>\n",
       "      <td>[absolute, masterpiece, time, want, modders, b...</td>\n",
       "    </tr>\n",
       "    <tr>\n",
       "      <th>11</th>\n",
       "      <td>a masterpiece.</td>\n",
       "      <td>[masterpiece]</td>\n",
       "    </tr>\n",
       "    <tr>\n",
       "      <th>12</th>\n",
       "      <td>nice games what i play for kid</td>\n",
       "      <td>[nice, game, play, kid]</td>\n",
       "    </tr>\n",
       "    <tr>\n",
       "      <th>13</th>\n",
       "      <td>its fun and nostalgic</td>\n",
       "      <td>[fun, nostalgic]</td>\n",
       "    </tr>\n",
       "    <tr>\n",
       "      <th>14</th>\n",
       "      <td>yes</td>\n",
       "      <td>[yes]</td>\n",
       "    </tr>\n",
       "    <tr>\n",
       "      <th>15</th>\n",
       "      <td>very good still fun and classic</td>\n",
       "      <td>[good, still, fun, classic]</td>\n",
       "    </tr>\n",
       "    <tr>\n",
       "      <th>16</th>\n",
       "      <td>Counter-Strike has ruined society too much to ...</td>\n",
       "      <td>[Counter-Strike, ruin, society, much, ever, re...</td>\n",
       "    </tr>\n",
       "    <tr>\n",
       "      <th>17</th>\n",
       "      <td>i like zombie mode :D</td>\n",
       "      <td>[like, zombie, mode]</td>\n",
       "    </tr>\n",
       "    <tr>\n",
       "      <th>18</th>\n",
       "      <td>this game goes back deep into my childhood. 5 ...</td>\n",
       "      <td>[game, go, back, deep, childhood, minutes, bec...</td>\n",
       "    </tr>\n",
       "    <tr>\n",
       "      <th>19</th>\n",
       "      <td>Gameplay&gt;&gt;&gt;Graphics</td>\n",
       "      <td>[Gameplay, Graphics]</td>\n",
       "    </tr>\n",
       "    <tr>\n",
       "      <th>20</th>\n",
       "      <td>like first love you never forget !!!!!  Counte...</td>\n",
       "      <td>[like, first, love, never, forget, !, !, !, !,...</td>\n",
       "    </tr>\n",
       "  </tbody>\n",
       "</table>\n",
       "</div>"
      ],
      "text/plain": [
       "                                               review  \\\n",
       "0   cs2 update made the game barely playable on my...   \n",
       "2   Counter-Strike 1.6 was a significant part of m...   \n",
       "3   I didn't get to play it during its peak. But e...   \n",
       "4   classic. the best of the best since '03. with ...   \n",
       "5   The phantom. Exterior like fish eggs. Interior...   \n",
       "6                                               Great   \n",
       "7                              sneak + a d is awesome   \n",
       "8                                  There are portals.   \n",
       "9                                         countr stik   \n",
       "10  An absolute masterpiece of it's time. I want t...   \n",
       "11                                     a masterpiece.   \n",
       "12                   nice games what i play for kid     \n",
       "13                              its fun and nostalgic   \n",
       "14                                                yes   \n",
       "15                    very good still fun and classic   \n",
       "16  Counter-Strike has ruined society too much to ...   \n",
       "17                              i like zombie mode :D   \n",
       "18  this game goes back deep into my childhood. 5 ...   \n",
       "19                                Gameplay>>>Graphics   \n",
       "20  like first love you never forget !!!!!  Counte...   \n",
       "\n",
       "                                     processed_review  \n",
       "0   [update, make, game, barely, playable, laptop,...  \n",
       "2   [Counter-Strike, significant, part, childhood,...  \n",
       "3          [get, play, peak, even, years, good, game]  \n",
       "4   [classic, best, best, since, cs, go, removal, ...  \n",
       "5   [phantom, Exterior, like, fish, egg, Interior,...  \n",
       "6                                             [Great]  \n",
       "7                                    [sneak, awesome]  \n",
       "8                                           [portals]  \n",
       "9                                      [countr, stik]  \n",
       "10  [absolute, masterpiece, time, want, modders, b...  \n",
       "11                                      [masterpiece]  \n",
       "12                            [nice, game, play, kid]  \n",
       "13                                   [fun, nostalgic]  \n",
       "14                                              [yes]  \n",
       "15                        [good, still, fun, classic]  \n",
       "16  [Counter-Strike, ruin, society, much, ever, re...  \n",
       "17                               [like, zombie, mode]  \n",
       "18  [game, go, back, deep, childhood, minutes, bec...  \n",
       "19                               [Gameplay, Graphics]  \n",
       "20  [like, first, love, never, forget, !, !, !, !,...  "
      ]
     },
     "metadata": {},
     "output_type": "display_data"
    }
   ],
   "source": [
    "print('Word Processed')\n",
    "word_df = reviews_processed.limit(21).toPandas()[['review', 'processed_review']]\n",
    "word_df = word_df.drop(1) # Dropping this row for vulgar language \n",
    "display(word_df)"
   ]
  },
  {
   "cell_type": "markdown",
   "id": "c9eb4c6e-2594-4637-acbd-28d6666dae19",
   "metadata": {},
   "source": [
    "The following cell will explode all words and organize them as individual tokens instead of in a list, which then we will \n",
    "aggregate by count and find the top 20 most used words. However, since exploding these review lists in each row exponentially \n",
    "increase the size of the dataset. We will take a 1,000,000 sample of the dataset and find the result."
   ]
  },
  {
   "cell_type": "code",
   "execution_count": 34,
   "id": "cb5e519e-edaf-4bc3-b090-4e64f8a95107",
   "metadata": {},
   "outputs": [],
   "source": [
    "from pyspark.sql.functions import rand\n",
    "\n",
    "reviews_processed_reduced = reviews_processed.orderBy(rand(seed=66)).limit(1000000)"
   ]
  },
  {
   "cell_type": "code",
   "execution_count": 35,
   "id": "af970e4d-97a4-46bb-a856-fa0c4a969faa",
   "metadata": {},
   "outputs": [
    {
     "name": "stdout",
     "output_type": "stream",
     "text": [
      "+------+-------+\n",
      "|  word|  count|\n",
      "+------+-------+\n",
      "|  game|1194649|\n",
      "|     !| 348395|\n",
      "|  play| 329517|\n",
      "|   get| 263727|\n",
      "|  like| 235515|\n",
      "|  time| 170259|\n",
      "|  good| 164295|\n",
      "|  make| 162311|\n",
      "|   fun| 151156|\n",
      "|     ?| 124578|\n",
      "|really| 123117|\n",
      "|     -| 119308|\n",
      "|   one| 118984|\n",
      "|  even| 116728|\n",
      "|    go| 109339|\n",
      "| would| 107414|\n",
      "|  much|  88661|\n",
      "|  feel|  88268|\n",
      "|   buy|  86506|\n",
      "|  want|  83964|\n",
      "+------+-------+\n",
      "\n"
     ]
    }
   ],
   "source": [
    "from pyspark.sql.functions import explode\n",
    "\n",
    "exploded_words = reviews_processed_reduced.select(explode(reviews_processed_reduced['processed_review']).alias('word'))\n",
    "word_counts = exploded_words.groupBy('word').count()\n",
    "top_20_words = word_counts.orderBy('count', ascending=False).limit(20)\n",
    "\n",
    "top_20_words.show()"
   ]
  },
  {
   "cell_type": "markdown",
   "id": "b58af00e-b277-454a-a976-58f3e985a678",
   "metadata": {},
   "source": [
    "It seems like that some top words are positive. Such as good, fun, and exclaimation mark appears a lot which means \n",
    "that users often feel strongly about their review. These top words also match up with our earlier count of number of recommendations \n",
    "because there are way more recommendations than not, so it would make sense positive words will have a higher appearence rate."
   ]
  },
  {
   "cell_type": "markdown",
   "id": "d619e5c3-b1e6-4260-b77f-09d98310c194",
   "metadata": {},
   "source": [
    "This concludes our data exploration section, we will now proceed to build our first sampel based off of our processed text."
   ]
  },
  {
   "cell_type": "markdown",
   "id": "b46aa34d-40ce-46d3-bf4d-6a79e4f5e508",
   "metadata": {},
   "source": [
    "### Building the Logistic Regression Sentiment Analysis Model"
   ]
  },
  {
   "cell_type": "markdown",
   "id": "47e029ca-f4b8-48dd-b06c-bd9924dede21",
   "metadata": {},
   "source": [
    "To begin, we will utilize Hashing and IDF to create a TF-IDF features extraction. We wil first create a pipeline to extract said \n",
    "features and then fit it to our data so we can extract the features."
   ]
  },
  {
   "cell_type": "code",
   "execution_count": 36,
   "id": "f69acc99-b247-4d91-9c11-0c4e2cc131fe",
   "metadata": {
    "editable": true,
    "slideshow": {
     "slide_type": ""
    },
    "tags": []
   },
   "outputs": [],
   "source": [
    "from pyspark.ml.feature import HashingTF, IDF\n",
    "from pyspark.ml import Pipeline\n",
    "\n",
    "hash = HashingTF(inputCol='processed_review', outputCol='features', numFeatures=8000)\n",
    "idf = IDF(inputCol='features', outputCol='idf_features')\n",
    "pipeline = Pipeline(stages=[hash, idf])\n",
    "model = pipeline.fit(reviews_processed)\n",
    "fitted_model = model.transform(reviews_processed)"
   ]
  },
  {
   "cell_type": "markdown",
   "id": "524d6187-b3e6-468f-9415-91030d996d30",
   "metadata": {},
   "source": [
    "The following cell will create a logistic model and split our feature-vectorized dataset into training and test \n",
    "sets. We will then fit our logisitic classifier to this dataset and create a prediction output that we can use \n",
    "to gauge the performance. We will need a cross validation method to fine tune our model - we have tried to use \n",
    "k-fold validation but Spark did not have enough memory to finish this task. So we will simply reserve 20% of the \n",
    "data for validation."
   ]
  },
  {
   "cell_type": "code",
   "execution_count": 37,
   "id": "eef5ab62-1451-4bb0-8588-b6f3fa0d5e24",
   "metadata": {},
   "outputs": [],
   "source": [
    "from pyspark.ml.classification import LogisticRegression\n",
    "\n",
    "X_train, X_val, X_test = fitted_model.randomSplit([0.6, 0.2, 0.2], seed=66)\n",
    "logistic_clf = LogisticRegression(featuresCol='idf_features', labelCol='voted_up')\n",
    "logistic_model = logistic_clf.fit(X_train)"
   ]
  },
  {
   "cell_type": "code",
   "execution_count": 38,
   "id": "e1e27906-cc83-49f0-9f9c-e9df1f062e14",
   "metadata": {},
   "outputs": [],
   "source": [
    "from pyspark.ml.evaluation import MulticlassClassificationEvaluator\n",
    "\n",
    "eval_ = MulticlassClassificationEvaluator(predictionCol='prediction', labelCol='voted_up')"
   ]
  },
  {
   "cell_type": "markdown",
   "id": "adbdd372-6fe7-49be-b81a-663f6037fc0b",
   "metadata": {},
   "source": [
    "We will test our accuracy on our validation set and fine tune our model based on the result. \n",
    "The output of training set accuracy is purely for visual reference and will not be used as an \n",
    "anchor point to fine tune our model."
   ]
  },
  {
   "cell_type": "code",
   "execution_count": 43,
   "id": "b5dfdd9c-994a-4cfa-bf08-2c79b66c0ff5",
   "metadata": {},
   "outputs": [
    {
     "name": "stdout",
     "output_type": "stream",
     "text": [
      "The model has an accuracy of: 0.818 on the training set.\n"
     ]
    }
   ],
   "source": [
    "pred_train = logistic_model.transform(X_train)\n",
    "acc_train = eval_.evaluate(pred_train)\n",
    "print(f'The model has an accuracy of: {round(acc_train, 4)} on the training set.')"
   ]
  },
  {
   "cell_type": "code",
   "execution_count": 39,
   "id": "20112d14-9aaf-440c-8758-e28777413a47",
   "metadata": {},
   "outputs": [
    {
     "name": "stdout",
     "output_type": "stream",
     "text": [
      "The model has an accuracy of: 0.8175 on the validation set.\n"
     ]
    }
   ],
   "source": [
    "pred_val = logistic_model.transform(X_val)\n",
    "acc_val = eval_.evaluate(pred_val)\n",
    "print(f'The model has an accuracy of: {round(acc_val, 4)} on the validation set.')"
   ]
  },
  {
   "cell_type": "markdown",
   "id": "31bb438d-80d7-4b36-8c82-c46a0ba859f0",
   "metadata": {},
   "source": [
    "We will now run our model on the test set to get the test set accuracy."
   ]
  },
  {
   "cell_type": "code",
   "execution_count": 40,
   "id": "1f29511b-7dbe-4221-aa3a-0bfc7da90eca",
   "metadata": {},
   "outputs": [
    {
     "name": "stdout",
     "output_type": "stream",
     "text": [
      "The model has an accuracy of: 0.8171 on the test set.\n"
     ]
    }
   ],
   "source": [
    "test_pred = logistic_model.transform(X_test)\n",
    "acc_test = eval_.evaluate(test_pred)\n",
    "print(f'The model has an accuracy of: {round(acc_test, 4)} on the test set.')"
   ]
  },
  {
   "cell_type": "markdown",
   "id": "8f590dde-1576-4800-b61e-a8476fe1d8b3",
   "metadata": {},
   "source": [
    "Very interesting to see that the accuracy of the test set and validation set is very similar, it would be a red flag \n",
    "if the test set has a higher accuracy but it is not in this case. This could indicate a couple things, such as the model \n",
    "having a fairly well generalization and not overfitting to the data."
   ]
  },
  {
   "cell_type": "code",
   "execution_count": 42,
   "id": "99e5be24-43ae-432d-b7f7-641fd73b99b7",
   "metadata": {},
   "outputs": [
    {
     "name": "stdout",
     "output_type": "stream",
     "text": [
      "+--------+----------+------+\n",
      "|voted_up|prediction| count|\n",
      "+--------+----------+------+\n",
      "|       1|       0.0|129326|\n",
      "|       0|       0.0|781841|\n",
      "|       1|       1.0|860481|\n",
      "|       0|       1.0|237462|\n",
      "+--------+----------+------+\n",
      "\n"
     ]
    }
   ],
   "source": [
    "analysis = test_pred.groupBy('voted_up', 'prediction').count()\n",
    "analysis.show()"
   ]
  },
  {
   "cell_type": "markdown",
   "id": "4ad85d83-b3db-4228-b1ba-1996b00dddcc",
   "metadata": {},
   "source": [
    "From the output, we can see that the model is making more mistakes predicting a bad sentiment as positive, which \n",
    "is to be expected as there were not a lot of negative labels to learn from, so much so that we had to downsample \n",
    "our positive labels to prevent overfitting."
   ]
  },
  {
   "cell_type": "markdown",
   "id": "aebca079-5d3e-42d8-9f6c-6f2cdb06f9a5",
   "metadata": {},
   "source": [
    "### Conclusion"
   ]
  },
  {
   "cell_type": "markdown",
   "id": "3eed0c5f-e7a9-40b2-9c35-9f6a902c2aa2",
   "metadata": {},
   "source": [
    "Our first model can be viewed as successful as we were able to produce a model that had relatively good accuracy despite the fact \n",
    "that it had skewed proportions for its labels (to which we fixed with downsampling). We tried different variations of token processing \n",
    "by choosing to keep specific punctuations and optimized how the tokenizer was treating words like 'very-fun'; where before, the tokenizer \n",
    "would remove the whole word instead of just removing the the dash in the middle. We also tried to utilize N-Gram models to fine tune our \n",
    "model but since a 2-gram model and above drasticially increase our number of tokens and we could not load enough memory in the Spark \n",
    "enviornment for it to successfully run - so we had to keep our unigram model. However, we were still able to produce a model that has a \n",
    "relatiecly high accuracy score However, we were still able to produce a model that has a relatiecly high accuracy score through continuous \n",
    "experimentation with our validation set. Something that we could have done better was to set up our Spark enviornment better as we had to \n",
    "make a couple of compromises - such as reducing our number of features for our model from 100000 to 8000 and not being able to experiment with \n",
    "2-Gram models like mentioned earlier. We could have also create a more robust downsampling or upsampling method as we are risking losing good \n",
    "information from the 30 million rows of positive labels we discarded. \n",
    "\n",
    "Our next model will be a linear regression that predicts playtime (a float) based on feature inputs such as the review text/sentiment and past playtime. \n",
    "Eventually, we will combine this Linear Regression model with our Logistic Regression model where the sentiment prediction will be fed into our linear \n",
    "regression model which outputs a predicted playtime. Then we will wrap all of these into a pipeline at the end and create a recommendation system by \n",
    "choosing the game with the highest projected playtime by the user. "
   ]
  },
  {
   "cell_type": "markdown",
   "id": "c594d1c5-e048-429a-a9f1-07454dee89c3",
   "metadata": {},
   "source": [
    "The next section we will create our second model - a linear regression model that predicts playtime based on inputs such as the full \n",
    "review text, past playtime, as well as the predicted sentiment from the logistic regression model. "
   ]
  },
  {
   "cell_type": "markdown",
   "id": "9226298d-08b6-42db-960b-493a5cd56b6e",
   "metadata": {},
   "source": [
    "# Part 4 - Building the Second Model and Recommendation Pipeline"
   ]
  },
  {
   "cell_type": "markdown",
   "id": "63cd9e36",
   "metadata": {},
   "source": [
    "To be continued."
   ]
  },
  {
   "cell_type": "markdown",
   "id": "6c8d676c-cdf4-4666-8da5-e5082f68ac6f",
   "metadata": {},
   "source": [
    "# Closing Thoughts"
   ]
  },
  {
   "cell_type": "markdown",
   "id": "3015b09f",
   "metadata": {},
   "source": [
    "This project was a difficult one - there were a lot of experimentation and restart from scratches. Learning how to \n",
    "navigate PySpark was also difficult as learning to manage memory and having to test with different core and its \n",
    "memor sizes was a new concept. Although this project was not able to complete the recommendation pipeline, it still \n",
    "laid the foundation for the system and navigating through the dataset and building these two models were challenging \n",
    "but rewarding. Looking forward to revisiting this project in the future and finish building out the recommendation system. "
   ]
  },
  {
   "cell_type": "markdown",
   "id": "8cab18a3",
   "metadata": {},
   "source": []
  }
 ],
 "metadata": {
  "kernelspec": {
   "display_name": "Python 3 (ipykernel)",
   "language": "python",
   "name": "python3"
  },
  "language_info": {
   "codemirror_mode": {
    "name": "ipython",
    "version": 3
   },
   "file_extension": ".py",
   "mimetype": "text/x-python",
   "name": "python",
   "nbconvert_exporter": "python",
   "pygments_lexer": "ipython3",
   "version": "3.11.6"
  }
 },
 "nbformat": 4,
 "nbformat_minor": 5
}
